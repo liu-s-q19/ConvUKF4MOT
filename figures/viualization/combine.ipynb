{
 "cells": [
  {
   "cell_type": "code",
   "execution_count": 9,
   "metadata": {},
   "outputs": [],
   "source": [
    "from PIL import Image\n",
    "from reportlab.lib.pagesizes import letter\n",
    "from reportlab.pdfgen import canvas\n",
    "from PIL import Image, ImageDraw, ImageFont"
   ]
  },
  {
   "cell_type": "code",
   "execution_count": 4,
   "metadata": {},
   "outputs": [],
   "source": [
    "def merge_images_vertically(image_paths):\n",
    "    # 打开并加载所有图像\n",
    "    images = [Image.open(image_path) for image_path in image_paths]\n",
    "\n",
    "    # 确定最大宽度和高度\n",
    "    max_width = max(image.width for image in images)\n",
    "    total_height = sum(image.height for image in images)\n",
    "\n",
    "    # 创建一张新的图片，将所有图像按垂直方向拼接起来\n",
    "    merged_image = Image.new(\"RGB\", (max_width, total_height), color=\"white\")\n",
    "    y_offset = 0\n",
    "    for image in images:\n",
    "        merged_image.paste(image, (0, y_offset))\n",
    "        y_offset += image.height\n",
    "\n",
    "    return merged_image\n",
    "\n",
    "def save_image_to_pdf(image, output_pdf):\n",
    "    # 将合并后的图片保存为 PDF 文件\n",
    "    image.save(output_pdf, \"PDF\", resolution=100.0)"
   ]
  },
  {
   "cell_type": "code",
   "execution_count": 13,
   "metadata": {},
   "outputs": [
    {
     "ename": "AttributeError",
     "evalue": "'FreeTypeFont' object has no attribute 'getsize'",
     "output_type": "error",
     "traceback": [
      "\u001b[0;31m---------------------------------------------------------------------------\u001b[0m",
      "\u001b[0;31mAttributeError\u001b[0m                            Traceback (most recent call last)",
      "Input \u001b[0;32mIn [13]\u001b[0m, in \u001b[0;36m<cell line: 45>\u001b[0;34m()\u001b[0m\n\u001b[1;32m     42\u001b[0m frame_numbers \u001b[38;5;241m=\u001b[39m [\u001b[38;5;124m\"\u001b[39m\u001b[38;5;124m000113\u001b[39m\u001b[38;5;124m\"\u001b[39m, \u001b[38;5;124m\"\u001b[39m\u001b[38;5;124m000121\u001b[39m\u001b[38;5;124m\"\u001b[39m, \u001b[38;5;124m\"\u001b[39m\u001b[38;5;124m000129\u001b[39m\u001b[38;5;124m\"\u001b[39m]\n\u001b[1;32m     44\u001b[0m \u001b[38;5;66;03m# 合并图像\u001b[39;00m\n\u001b[0;32m---> 45\u001b[0m merged_image \u001b[38;5;241m=\u001b[39m \u001b[43mmerge_images_vertically\u001b[49m\u001b[43m(\u001b[49m\u001b[43mimage_paths\u001b[49m\u001b[43m,\u001b[49m\u001b[43m \u001b[49m\u001b[43mframe_numbers\u001b[49m\u001b[43m)\u001b[49m\n\u001b[1;32m     47\u001b[0m \u001b[38;5;66;03m# 输出 PDF 的文件名\u001b[39;00m\n\u001b[1;32m     48\u001b[0m output_pdf \u001b[38;5;241m=\u001b[39m \u001b[38;5;124m\"\u001b[39m\u001b[38;5;124mconvukf_vual.pdf\u001b[39m\u001b[38;5;124m\"\u001b[39m\n",
      "Input \u001b[0;32mIn [13]\u001b[0m, in \u001b[0;36mmerge_images_vertically\u001b[0;34m(image_paths, frame_numbers)\u001b[0m\n\u001b[1;32m     18\u001b[0m \u001b[38;5;28;01mdef\u001b[39;00m \u001b[38;5;21mmerge_images_vertically\u001b[39m(image_paths, frame_numbers):\n\u001b[1;32m     19\u001b[0m     \u001b[38;5;66;03m# 打开并加载所有图像，并为每张图像添加帧编号文本\u001b[39;00m\n\u001b[1;32m     20\u001b[0m     images \u001b[38;5;241m=\u001b[39m [Image\u001b[38;5;241m.\u001b[39mopen(image_path) \u001b[38;5;28;01mfor\u001b[39;00m image_path \u001b[38;5;129;01min\u001b[39;00m image_paths]\n\u001b[0;32m---> 21\u001b[0m     images_with_frames \u001b[38;5;241m=\u001b[39m [add_frame_number(images[i], frame_numbers[i]) \u001b[38;5;28;01mfor\u001b[39;00m i \u001b[38;5;129;01min\u001b[39;00m \u001b[38;5;28mrange\u001b[39m(\u001b[38;5;28mlen\u001b[39m(images))]\n\u001b[1;32m     23\u001b[0m     \u001b[38;5;66;03m# 确定最大宽度和高度\u001b[39;00m\n\u001b[1;32m     24\u001b[0m     max_width \u001b[38;5;241m=\u001b[39m \u001b[38;5;28mmax\u001b[39m(image\u001b[38;5;241m.\u001b[39mwidth \u001b[38;5;28;01mfor\u001b[39;00m image \u001b[38;5;129;01min\u001b[39;00m images_with_frames)\n",
      "Input \u001b[0;32mIn [13]\u001b[0m, in \u001b[0;36m<listcomp>\u001b[0;34m(.0)\u001b[0m\n\u001b[1;32m     18\u001b[0m \u001b[38;5;28;01mdef\u001b[39;00m \u001b[38;5;21mmerge_images_vertically\u001b[39m(image_paths, frame_numbers):\n\u001b[1;32m     19\u001b[0m     \u001b[38;5;66;03m# 打开并加载所有图像，并为每张图像添加帧编号文本\u001b[39;00m\n\u001b[1;32m     20\u001b[0m     images \u001b[38;5;241m=\u001b[39m [Image\u001b[38;5;241m.\u001b[39mopen(image_path) \u001b[38;5;28;01mfor\u001b[39;00m image_path \u001b[38;5;129;01min\u001b[39;00m image_paths]\n\u001b[0;32m---> 21\u001b[0m     images_with_frames \u001b[38;5;241m=\u001b[39m [\u001b[43madd_frame_number\u001b[49m\u001b[43m(\u001b[49m\u001b[43mimages\u001b[49m\u001b[43m[\u001b[49m\u001b[43mi\u001b[49m\u001b[43m]\u001b[49m\u001b[43m,\u001b[49m\u001b[43m \u001b[49m\u001b[43mframe_numbers\u001b[49m\u001b[43m[\u001b[49m\u001b[43mi\u001b[49m\u001b[43m]\u001b[49m\u001b[43m)\u001b[49m \u001b[38;5;28;01mfor\u001b[39;00m i \u001b[38;5;129;01min\u001b[39;00m \u001b[38;5;28mrange\u001b[39m(\u001b[38;5;28mlen\u001b[39m(images))]\n\u001b[1;32m     23\u001b[0m     \u001b[38;5;66;03m# 确定最大宽度和高度\u001b[39;00m\n\u001b[1;32m     24\u001b[0m     max_width \u001b[38;5;241m=\u001b[39m \u001b[38;5;28mmax\u001b[39m(image\u001b[38;5;241m.\u001b[39mwidth \u001b[38;5;28;01mfor\u001b[39;00m image \u001b[38;5;129;01min\u001b[39;00m images_with_frames)\n",
      "Input \u001b[0;32mIn [13]\u001b[0m, in \u001b[0;36madd_frame_number\u001b[0;34m(image, frame_number)\u001b[0m\n\u001b[1;32m      6\u001b[0m font \u001b[38;5;241m=\u001b[39m ImageFont\u001b[38;5;241m.\u001b[39mtruetype(\u001b[38;5;124m\"\u001b[39m\u001b[38;5;124marial.ttf\u001b[39m\u001b[38;5;124m\"\u001b[39m, \u001b[38;5;241m30\u001b[39m)  \u001b[38;5;66;03m# 使用Arial字体，大小为30\u001b[39;00m\n\u001b[1;32m      7\u001b[0m text \u001b[38;5;241m=\u001b[39m \u001b[38;5;124m\"\u001b[39m\u001b[38;5;124mFrame:\u001b[39m\u001b[38;5;132;01m{}\u001b[39;00m\u001b[38;5;124m\"\u001b[39m\u001b[38;5;241m.\u001b[39mformat(frame_number)\n\u001b[0;32m----> 8\u001b[0m text_width, text_height \u001b[38;5;241m=\u001b[39m \u001b[43mfont\u001b[49m\u001b[38;5;241;43m.\u001b[39;49m\u001b[43mgetsize\u001b[49m(text)\n\u001b[1;32m      9\u001b[0m \u001b[38;5;66;03m# 计算文本位置和方框位置\u001b[39;00m\n\u001b[1;32m     10\u001b[0m text_position \u001b[38;5;241m=\u001b[39m (\u001b[38;5;241m10\u001b[39m, \u001b[38;5;241m10\u001b[39m)\n",
      "\u001b[0;31mAttributeError\u001b[0m: 'FreeTypeFont' object has no attribute 'getsize'"
     ]
    }
   ],
   "source": [
    "from PIL import Image, ImageDraw, ImageFont\n",
    "\n",
    "def add_frame_number(image, frame_number):\n",
    "    # 在图像左上角添加帧编号文本\n",
    "    draw = ImageDraw.Draw(image)\n",
    "    font = ImageFont.truetype(\"arial.ttf\", 30)  # 使用Arial字体，大小为30\n",
    "    text = \"Frame:{}\".format(frame_number)\n",
    "    text_width, text_height = font.getsize(text)\n",
    "    # 计算文本位置和方框位置\n",
    "    text_position = (10, 10)\n",
    "    box_position = (5, 5)\n",
    "    box_size = (text_width + 20, text_height + 20)\n",
    "    # 绘制文本和方框\n",
    "    draw.rectangle([box_position, (box_position[0] + box_size[0], box_position[1] + box_size[1])], outline='black', width=2)\n",
    "    draw.text(text_position, text, fill='black', font=font)\n",
    "    return image\n",
    "\n",
    "def merge_images_vertically(image_paths, frame_numbers):\n",
    "    # 打开并加载所有图像，并为每张图像添加帧编号文本\n",
    "    images = [Image.open(image_path) for image_path in image_paths]\n",
    "    images_with_frames = [add_frame_number(images[i], frame_numbers[i]) for i in range(len(images))]\n",
    "\n",
    "    # 确定最大宽度和高度\n",
    "    max_width = max(image.width for image in images_with_frames)\n",
    "    total_height = sum(image.height for image in images_with_frames)\n",
    "\n",
    "    # 创建一张新的图片，将所有图像按垂直方向拼接起来\n",
    "    merged_image = Image.new(\"RGB\", (max_width, total_height), color=\"white\")\n",
    "    y_offset = 0\n",
    "    for image in images_with_frames:\n",
    "        merged_image.paste(image, (0, y_offset))\n",
    "        y_offset += image.height\n",
    "\n",
    "    return merged_image\n",
    "\n",
    "def save_image_to_pdf(image, output_pdf):\n",
    "    # 将合并后的图片保存为 PDF 文件\n",
    "    image.save(output_pdf, \"PDF\", resolution=100.0)\n",
    "\n",
    "# 要合并的图像路径列表和对应的帧编号\n",
    "image_paths = [\"convukf/000113.jpg\", \"convukf/000121.jpg\", \"convukf/000129.jpg\"]\n",
    "frame_numbers = [\"000113\", \"000121\", \"000129\"]\n",
    "\n",
    "# 合并图像\n",
    "merged_image = merge_images_vertically(image_paths, frame_numbers)\n",
    "\n",
    "# 输出 PDF 的文件名\n",
    "output_pdf = \"convukf_vual.pdf\"\n",
    "\n",
    "# 保存合并后的图片为 PDF\n",
    "save_image_to_pdf(merged_image, output_pdf)\n",
    "\n",
    "print(\"PDF 已生成：{}\".format(output_pdf))\n"
   ]
  },
  {
   "cell_type": "code",
   "execution_count": 5,
   "metadata": {},
   "outputs": [
    {
     "name": "stdout",
     "output_type": "stream",
     "text": [
      "PDF 已生成：convukf_vual.pdf\n"
     ]
    }
   ],
   "source": [
    "# 要合并的图像路径列表\n",
    "image_paths = [\"convukf/000113.jpg\", \"convukf/000121.jpg\", \"convukf/000129.jpg\"]\n",
    "\n",
    "# 合并图像\n",
    "merged_image = merge_images_vertically(image_paths)\n",
    "\n",
    "# 输出 PDF 的文件名\n",
    "output_pdf = \"convukf_vual.pdf\"\n",
    "\n",
    "# 保存合并后的图片为 PDF\n",
    "save_image_to_pdf(merged_image, output_pdf)\n",
    "\n",
    "print(\"PDF 已生成：{}\".format(output_pdf))"
   ]
  },
  {
   "cell_type": "code",
   "execution_count": 7,
   "metadata": {},
   "outputs": [
    {
     "name": "stdout",
     "output_type": "stream",
     "text": [
      "PDF 已生成：huberukf_vual.pdf\n"
     ]
    }
   ],
   "source": [
    "# 要合并的图像路径列表\n",
    "image_paths = [\"huberukf/000113.png\", \"huberukf/000121.png\", \"huberukf/000129.png\"]\n",
    "\n",
    "# 合并图像\n",
    "merged_image = merge_images_vertically(image_paths)\n",
    "\n",
    "# 输出 PDF 的文件名\n",
    "output_pdf = \"huberukf_vual.pdf\"\n",
    "\n",
    "# 保存合并后的图片为 PDF\n",
    "save_image_to_pdf(merged_image, output_pdf)\n",
    "\n",
    "print(\"PDF 已生成：{}\".format(output_pdf))"
   ]
  }
 ],
 "metadata": {
  "kernelspec": {
   "display_name": "svi-state-estimation",
   "language": "python",
   "name": "python3"
  },
  "language_info": {
   "codemirror_mode": {
    "name": "ipython",
    "version": 3
   },
   "file_extension": ".py",
   "mimetype": "text/x-python",
   "name": "python",
   "nbconvert_exporter": "python",
   "pygments_lexer": "ipython3",
   "version": "3.10.0"
  }
 },
 "nbformat": 4,
 "nbformat_minor": 2
}
