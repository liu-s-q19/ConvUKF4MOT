{
 "cells": [
  {
   "cell_type": "code",
   "execution_count": 2,
   "metadata": {},
   "outputs": [],
   "source": [
    "from PIL import Image\n",
    "from reportlab.pdfgen import canvas\n",
    "import tempfile\n",
    "import os\n",
    "\n",
    "def resize_and_convert_to_pdf(input_png_path, output_pdf_path, base_png_path):\n",
    "    # Open base PNG image to get its dimensions\n",
    "    base_img = Image.open(base_png_path)\n",
    "    base_width, base_height = base_img.size\n",
    "    \n",
    "    # Open input PNG image\n",
    "    input_img = Image.open(input_png_path)\n",
    "    \n",
    "    # Resize input PNG image to match dimensions of base PNG image\n",
    "    input_img = input_img.resize((base_width, base_height))\n",
    "    \n",
    "    # Save the resized input PNG image to a temporary file\n",
    "    temp_png_file = tempfile.NamedTemporaryFile(suffix='.png', delete=False)\n",
    "    input_img.save(temp_png_file.name)\n",
    "    \n",
    "    # Create a new PDF with the same dimensions as the base PNG image\n",
    "    c = canvas.Canvas(output_pdf_path, pagesize=(base_width, base_height))\n",
    "    \n",
    "    # Draw the resized PNG image onto the PDF\n",
    "    c.drawImage(temp_png_file.name, 0, 0)\n",
    "    \n",
    "    # Save the PDF\n",
    "    c.save()\n",
    "    \n",
    "    # Close and remove temporary PNG file\n",
    "    temp_png_file.close()\n",
    "    os.unlink(temp_png_file.name)\n",
    "\n",
    "# Path to the base PNG image (the one whose dimensions will be used)\n",
    "base_png_path = '1.png'\n",
    "\n",
    "# Convert and resize each PNG to PDF\n",
    "for i in range(1, 5):\n",
    "    input_png_path = f'{i}.png'\n",
    "    output_pdf_path = f'{i}.pdf'\n",
    "    resize_and_convert_to_pdf(input_png_path, output_pdf_path, base_png_path)\n"
   ]
  }
 ],
 "metadata": {
  "kernelspec": {
   "display_name": "svi-state-estimation",
   "language": "python",
   "name": "python3"
  },
  "language_info": {
   "codemirror_mode": {
    "name": "ipython",
    "version": 3
   },
   "file_extension": ".py",
   "mimetype": "text/x-python",
   "name": "python",
   "nbconvert_exporter": "python",
   "pygments_lexer": "ipython3",
   "version": "3.10.0"
  }
 },
 "nbformat": 4,
 "nbformat_minor": 2
}
