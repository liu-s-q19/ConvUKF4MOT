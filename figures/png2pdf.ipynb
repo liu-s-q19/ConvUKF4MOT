{
 "cells": [
  {
   "cell_type": "code",
   "execution_count": 3,
   "metadata": {},
   "outputs": [
    {
     "name": "stdout",
     "output_type": "stream",
     "text": [
      "Conversion complete. PDF saved as outlier_1.pdf.\n"
     ]
    }
   ],
   "source": [
    "from PIL import Image\n",
    "from reportlab.lib.pagesizes import letter\n",
    "from reportlab.pdfgen import canvas\n",
    "import os\n",
    "\n",
    "def convert_png_to_pdf(png_path, pdf_path):\n",
    "    # Open PNG image\n",
    "    img = Image.open(png_path)\n",
    "    \n",
    "    # Create a new PDF with the same dimensions as the image\n",
    "    c = canvas.Canvas(pdf_path, pagesize=img.size)\n",
    "    \n",
    "    # Draw the PNG image onto the PDF\n",
    "    c.drawImage(png_path, 0, 0)\n",
    "    \n",
    "    # Save the PDF\n",
    "    c.save()\n",
    "\n",
    "# 示例用法\n",
    "if __name__ == \"__main__\":\n",
    "    png_file = \"/home/liushiqi/liusq/AB3DMOT/000114.png\"\n",
    "    pdf_file = \"outlier_1.pdf\"\n",
    "    \n",
    "    convert_png_to_pdf(png_file, pdf_file)\n",
    "    \n",
    "    print(f\"Conversion complete. PDF saved as {pdf_file}.\")\n"
   ]
  }
 ],
 "metadata": {
  "kernelspec": {
   "display_name": "svi-state-estimation",
   "language": "python",
   "name": "python3"
  },
  "language_info": {
   "codemirror_mode": {
    "name": "ipython",
    "version": 3
   },
   "file_extension": ".py",
   "mimetype": "text/x-python",
   "name": "python",
   "nbconvert_exporter": "python",
   "pygments_lexer": "ipython3",
   "version": "3.10.0"
  }
 },
 "nbformat": 4,
 "nbformat_minor": 2
}
